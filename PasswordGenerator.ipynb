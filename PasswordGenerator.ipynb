{
  "nbformat": 4,
  "nbformat_minor": 0,
  "metadata": {
    "colab": {
      "provenance": []
    },
    "kernelspec": {
      "name": "python3",
      "display_name": "Python 3"
    },
    "language_info": {
      "name": "python"
    }
  },
  "cells": [
    {
      "cell_type": "code",
      "execution_count": null,
      "metadata": {
        "colab": {
          "base_uri": "https://localhost:8080/"
        },
        "id": "vNnkaTXiCcUM",
        "outputId": "a0eff3b3-0406-4391-febf-8f81450fcf5a"
      },
      "outputs": [
        {
          "output_type": "stream",
          "name": "stdout",
          "text": [
            "Welcome to the PyPassword Generator!\n",
            "How many letters would you like in your password?\n",
            "10\n",
            "How many symbols would you like?\n",
            "23\n",
            "How many numbers would you like?\n",
            "2\n",
            "jrocRKODdP$#)!*$!($)*)(+&))$!)%$*59\n"
          ]
        }
      ],
      "source": [
        "#Password Generator Project\n",
        "import random\n",
        "letters = ['a', 'b', 'c', 'd', 'e', 'f', 'g', 'h', 'i', 'j', 'k', 'l', 'm', 'n', 'o', 'p', 'q', 'r', 's', 't', 'u', 'v', 'w', 'x', 'y', 'z', 'A', 'B', 'C', 'D', 'E', 'F', 'G', 'H', 'I', 'J', 'K', 'L', 'M', 'N', 'O', 'P', 'Q', 'R', 'S', 'T', 'U', 'V', 'W', 'X', 'Y', 'Z']\n",
        "numbers = ['0', '1', '2', '3', '4', '5', '6', '7', '8', '9']\n",
        "symbols = ['!', '#', '$', '%', '&', '(', ')', '*', '+']\n",
        "\n",
        "print(\"Welcome to the PyPassword Generator!\")\n",
        "nr_letters= int(input(\"How many letters would you like in your password?\\n\"))\n",
        "nr_symbols = int(input(f\"How many symbols would you like?\\n\"))\n",
        "nr_numbers = int(input(f\"How many numbers would you like?\\n\"))\n",
        "\n",
        "password = \"\"\n",
        "letter = \"\"\n",
        "number = \"\"\n",
        "symbol = \"\"\n",
        "\n",
        "for i in range(nr_letters):\n",
        "  letter = letters[random.randint(0,51)]\n",
        "  password += letter\n",
        "\n",
        "for i in range(nr_symbols):\n",
        "  symbol = symbols[random.randint(0,8)]\n",
        "  password += symbol\n",
        "\n",
        "for i in range(nr_numbers):\n",
        "  number = numbers[random.randint(0,9)]\n",
        "  password += number\n",
        "\n",
        "print(password)"
      ]
    }
  ]
}